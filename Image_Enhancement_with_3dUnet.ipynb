{
 "cells": [
  {
   "cell_type": "markdown",
   "id": "50fdc69b",
   "metadata": {},
   "source": [
    "# Train 3DUnet for Image Enhancement"
   ]
  },
  {
   "cell_type": "markdown",
   "id": "1a379fc3",
   "metadata": {},
   "source": [
    "## Load config"
   ]
  },
  {
   "cell_type": "code",
   "execution_count": 21,
   "id": "1f1755dd-c524-46e5-9b54-989f260ce7bf",
   "metadata": {},
   "outputs": [],
   "source": [
    "from train_regression import train_3dunet_regression, load_config_yaml\n",
    "\n",
    "# Path to config file\n",
    "config_file = \"train_config.yaml\"\n",
    "\n",
    "# Load config\n",
    "config = load_config_yaml(config_file)\n",
    "\n",
    "# get config for data loaders\n",
    "config_loaders = config['loaders']"
   ]
  },
  {
   "cell_type": "markdown",
   "id": "14302942",
   "metadata": {},
   "source": [
    "# Visualize Dataset"
   ]
  },
  {
   "cell_type": "markdown",
   "id": "bbe1ed28",
   "metadata": {},
   "source": [
    "### Visualize raw images"
   ]
  },
  {
   "cell_type": "markdown",
   "id": "e48ef7e6",
   "metadata": {},
   "source": [
    "Read image array from tif file and visualize them\n",
    "\n",
    "- Give the path to dataset folder, such as \"path/to/dataset\"\n",
    "- Use TIFDataset.load_dataset_files() to load all tif files in the dataset, retuern a list of [(raw_image_file, groundtruth_file_path, weight_file_path(optional)), ...\n",
    "- Choose the file to visualize by given the index. Print all files using "
   ]
  },
  {
   "cell_type": "code",
   "execution_count": 22,
   "id": "5ad94d1b",
   "metadata": {},
   "outputs": [],
   "source": [
    "import tifffile\n",
    "import numpy as np\n",
    "from visualize import display_sequence\n",
    "from dataloader import TIFDataset\n",
    "\n",
    "%matplotlib inline"
   ]
  },
  {
   "cell_type": "code",
   "execution_count": 23,
   "id": "4b56aa00",
   "metadata": {},
   "outputs": [
    {
     "name": "stdout",
     "output_type": "stream",
     "text": [
      "- Visualize following files: \n",
      "\t/Users/w.zhao/Projects/MemSeg/Dataset/dataset01/train/raw_images/201223_RL57M_pos1.tif\n",
      "\t/Users/w.zhao/Projects/MemSeg/Dataset/dataset01/train/ground_truth/201223_RL57M_pos1_gt.tif\n",
      "- Image shape \n",
      "\t raw image: (64, 406, 406) \n",
      "\t Gt image (64, 406, 406)\n"
     ]
    }
   ],
   "source": [
    "# Get image file paths  \n",
    "train_file_path = config_loaders['train']['file_paths'][0]\n",
    "file_paths = TIFDataset.load_dataset_files(train_file_path)\n",
    "\n",
    "# Uncomment following lines to print all files \n",
    "# for rf, gf, _ in file_paths:\n",
    "#     print(f\"*---{rf}\\n |--{gf}\")\n",
    "\n",
    "# Choose a file to visualize \n",
    "# get image path \n",
    "raw_file_path = file_paths[0][0]\n",
    "gt_file_path = file_paths[0][1]\n",
    "print(f\"- Visualize following files: \\n\\t{raw_file_path}\\n\\t{gt_file_path}\")\n",
    "\n",
    "# read image data\n",
    "raw_im_arr = tifffile.imread(raw_file_path)\n",
    "gt_im_arr = tifffile.imread(gt_file_path)\n",
    "\n",
    "print(f\"- Image shape \\n\\t raw image: {raw_im_arr.shape} \\n\\t Gt image {gt_im_arr.shape}\")"
   ]
  },
  {
   "cell_type": "code",
   "execution_count": 24,
   "id": "5ba70999",
   "metadata": {},
   "outputs": [
    {
     "data": {
      "application/vnd.jupyter.widget-view+json": {
       "model_id": "e9505881f9ad4d34825b97b8d871f2d4",
       "version_major": 2,
       "version_minor": 0
      },
      "text/plain": [
       "interactive(children=(IntSlider(value=31, description='frame', max=63), Output()), _dom_classes=('widget-inter…"
      ]
     },
     "metadata": {},
     "output_type": "display_data"
    },
    {
     "data": {
      "text/plain": [
       "<function visualize.display_sequence.<locals>._show(frame=(0, 63))>"
      ]
     },
     "execution_count": 24,
     "metadata": {},
     "output_type": "execute_result"
    }
   ],
   "source": [
    "# Visualize 3d image\n",
    "display_sequence(raw_im_arr)"
   ]
  },
  {
   "cell_type": "markdown",
   "id": "b13c34b3",
   "metadata": {},
   "source": [
    "# Train Model\n",
    "\n",
    "- Use train_3dunet_regression to train the model"
   ]
  },
  {
   "cell_type": "code",
   "execution_count": null,
   "id": "2b3b6d00",
   "metadata": {},
   "outputs": [],
   "source": [
    "\n",
    "# Start to train\n",
    "train_3dunet_regression(config_file)"
   ]
  },
  {
   "cell_type": "code",
   "execution_count": 11,
   "id": "0419ffe3",
   "metadata": {},
   "outputs": [
    {
     "data": {
      "text/plain": [
       "dict_keys(['model', 'trainer', 'optimizer', 'loss', 'eval_metric', 'lr_scheduler', 'loaders'])"
      ]
     },
     "execution_count": 11,
     "metadata": {},
     "output_type": "execute_result"
    }
   ],
   "source": [
    "# config, config_path = load_config(['--config', 'train.yaml'])\n",
    "config.keys()"
   ]
  }
 ],
 "metadata": {
  "kernelspec": {
   "display_name": "3dunet",
   "language": "python",
   "name": "3dunet"
  },
  "language_info": {
   "codemirror_mode": {
    "name": "ipython",
    "version": 3
   },
   "file_extension": ".py",
   "mimetype": "text/x-python",
   "name": "python",
   "nbconvert_exporter": "python",
   "pygments_lexer": "ipython3",
   "version": "3.9.7"
  }
 },
 "nbformat": 4,
 "nbformat_minor": 5
}
