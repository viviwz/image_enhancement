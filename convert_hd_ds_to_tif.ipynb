{
 "cells": [
  {
   "cell_type": "code",
   "execution_count": 5,
   "metadata": {},
   "outputs": [],
   "source": [
    "import os\n",
    "import h5py\n",
    "import numpy as np\n",
    "from pathlib import Path\n",
    "import tifffile\n",
    "from string import Template"
   ]
  },
  {
   "cell_type": "code",
   "execution_count": 3,
   "metadata": {},
   "outputs": [],
   "source": [
    "def convert_h5_to_tif(input_file, output_file, internal_path):\n",
    "    with h5py.File(input_file, \"r\") as h5_file:\n",
    "        assert internal_path in h5_file, f\"Dataset {internal_path} not found in {input_file}\"\n",
    "        im_nda = h5_file[internal_path][:]\n",
    "\n",
    "    tifffile.imwrite(output_file, im_nda)\n",
    "\n",
    "\n",
    "def make_subset(h5_files, output_file_temp:Template, h5_internal_path):\n",
    "    for file in h5_files:\n",
    "        save_file = output_file_temp.substitute(name=Path(file).stem)\n",
    "        # print(file, save_file)\n",
    "        convert_h5_to_tif(file, save_file, h5_internal_path)"
   ]
  },
  {
   "cell_type": "code",
   "execution_count": 6,
   "metadata": {},
   "outputs": [
    {
     "name": "stdout",
     "output_type": "stream",
     "text": [
      "../MemSeg/Results_from_Ravi/3DUnet_Data_Ravi/train/201223_RL57M_pos2.h5\n",
      "../MemSeg/Results_from_Ravi/3DUnet_Data_Ravi/train/201223_RL57M_pos6.h5\n",
      "../MemSeg/Results_from_Ravi/3DUnet_Data_Ravi/train/201223_RL57M_pos7.h5\n",
      "../MemSeg/Results_from_Ravi/3DUnet_Data_Ravi/train/201223_RL57M_pos3.h5\n",
      "../MemSeg/Results_from_Ravi/3DUnet_Data_Ravi/train/201223_RL57M_pos8.h5\n",
      "../MemSeg/Results_from_Ravi/3DUnet_Data_Ravi/train/201223_RL57M_pos4.h5\n",
      "../MemSeg/Results_from_Ravi/3DUnet_Data_Ravi/train/201223_RL57M_pos1.h5\n",
      "../MemSeg/Results_from_Ravi/3DUnet_Data_Ravi/train/201223_RL57M_pos5.h5\n"
     ]
    }
   ],
   "source": [
    "# train\n",
    "\n",
    "train_path = \"../MemSeg/Results_from_Ravi/3DUnet_Data_Ravi/train\"\n",
    "\n",
    "train_files = [str(f) for f in Path(train_path).glob(\"*.h5\")]\n",
    "\n",
    "for file in train_files:\n",
    "    print(file)\n",
    "\n",
    "# train/raw_images\n",
    "output_raw_temp = Template(\"../MemSeg/Dataset/dataset01/train/raw_images/$name.tif\")\n",
    "output_path = Path(output_raw_temp.substitute(name=\"\")).parent\n",
    "if not os.path.isdir(output_path):\n",
    "    Path(output_path).mkdir(parents=True)\n",
    "h5_internal_path = \"memb/mean\"\n",
    "\n",
    "make_subset(train_files, output_raw_temp, h5_internal_path)\n",
    "\n",
    "# train/ground_truth\n",
    "output_gt_temp = Template(\"../MemSeg/Dataset/dataset01/train/ground_truth/${name}_gt.tif\")\n",
    "output_path = Path(output_gt_temp.substitute(name=\"\")).parent\n",
    "if not os.path.isdir(output_path):\n",
    "    Path(output_path).mkdir(parents=True)\n",
    "    \n",
    "h5_internal_path = \"memb/unet3d\"\n",
    "\n",
    "make_subset(train_files, output_gt_temp, h5_internal_path)"
   ]
  },
  {
   "cell_type": "code",
   "execution_count": 7,
   "metadata": {},
   "outputs": [
    {
     "name": "stdout",
     "output_type": "stream",
     "text": [
      "../MemSeg/Results_from_Ravi/3DUnet_Data_Ravi/train/201223_RL57M_pos2.h5\n",
      "../MemSeg/Results_from_Ravi/3DUnet_Data_Ravi/train/201223_RL57M_pos6.h5\n",
      "../MemSeg/Results_from_Ravi/3DUnet_Data_Ravi/train/201223_RL57M_pos7.h5\n",
      "../MemSeg/Results_from_Ravi/3DUnet_Data_Ravi/train/201223_RL57M_pos3.h5\n",
      "../MemSeg/Results_from_Ravi/3DUnet_Data_Ravi/train/201223_RL57M_pos8.h5\n",
      "../MemSeg/Results_from_Ravi/3DUnet_Data_Ravi/train/201223_RL57M_pos4.h5\n",
      "../MemSeg/Results_from_Ravi/3DUnet_Data_Ravi/train/201223_RL57M_pos1.h5\n",
      "../MemSeg/Results_from_Ravi/3DUnet_Data_Ravi/train/201223_RL57M_pos5.h5\n"
     ]
    }
   ],
   "source": [
    "# val\n",
    "\n",
    "val_path = \"../MemSeg/Results_from_Ravi/3DUnet_Data_Ravi/val\"\n",
    "\n",
    "val_files = [str(f) for f in Path(train_path).glob(\"*.h5\")]\n",
    "\n",
    "for file in train_files:\n",
    "    print(file)\n",
    "\n",
    "# train/raw_images\n",
    "output_raw_temp = Template(\"../MemSeg/Dataset/dataset01/val/raw_images/$name.tif\")\n",
    "output_path = Path(output_raw_temp.substitute(name=\"\")).parent\n",
    "if not os.path.isdir(output_path):\n",
    "    Path(output_path).mkdir(parents=True)\n",
    "h5_internal_path = \"memb/mean\"\n",
    "\n",
    "make_subset(val_files, output_raw_temp, h5_internal_path)\n",
    "\n",
    "# train/ground_truth\n",
    "output_gt_temp = Template(\"../MemSeg/Dataset/dataset01/val/ground_truth/${name}_gt.tif\")\n",
    "output_path = Path(output_gt_temp.substitute(name=\"\")).parent\n",
    "if not os.path.isdir(output_path):\n",
    "    Path(output_path).mkdir(parents=True)\n",
    "h5_internal_path = \"memb/unet3d\"\n",
    "\n",
    "make_subset(val_files, output_gt_temp, h5_internal_path)"
   ]
  }
 ],
 "metadata": {
  "kernelspec": {
   "display_name": "3dunet",
   "language": "python",
   "name": "3dunet"
  },
  "language_info": {
   "codemirror_mode": {
    "name": "ipython",
    "version": 3
   },
   "file_extension": ".py",
   "mimetype": "text/x-python",
   "name": "python",
   "nbconvert_exporter": "python",
   "pygments_lexer": "ipython3",
   "version": "3.11.8"
  }
 },
 "nbformat": 4,
 "nbformat_minor": 2
}
