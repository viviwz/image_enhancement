{
 "cells": [
  {
   "cell_type": "markdown",
   "metadata": {},
   "source": [
    "# Prediction"
   ]
  },
  {
   "cell_type": "markdown",
   "metadata": {},
   "source": [
    "Save the parameters in a .yaml file, see \"test_config.yaml\" as an example\n",
    "- In test_config.yaml\n",
    "  - set the path to model file through ```model_path```\n",
    "  - set the path to save result files through ```output_dir```\n",
    "  - set the path to test files through ```test:file_paths```\n",
    "  - In ```slice_builder```：\n",
    "      - ```stride_shape``` should be no larger than ```patch_shape``` \n",
    "      - ```patch_shape``` and ```stride_shape``` should be the same if using ```halo_shape```"
   ]
  },
  {
   "cell_type": "code",
   "execution_count": null,
   "metadata": {},
   "outputs": [],
   "source": [
    "from train_regression import load_config_yaml\n",
    "from predict_regression import predict"
   ]
  },
  {
   "cell_type": "markdown",
   "metadata": {},
   "source": [
    "Load config for prediction"
   ]
  },
  {
   "cell_type": "code",
   "execution_count": null,
   "metadata": {},
   "outputs": [],
   "source": [
    "test_config_file_path = \"test_config.yaml\"\n",
    "test_config = load_config_yaml(test_config_file_path)"
   ]
  },
  {
   "cell_type": "markdown",
   "metadata": {},
   "source": [
    " Use ```predict``` to train the model"
   ]
  },
  {
   "cell_type": "code",
   "execution_count": null,
   "metadata": {},
   "outputs": [],
   "source": [
    "from predict_regression import predict\n",
    "\n",
    "predict(test_config)"
   ]
  }
 ],
 "metadata": {
  "language_info": {
   "name": "python"
  }
 },
 "nbformat": 4,
 "nbformat_minor": 2
}
